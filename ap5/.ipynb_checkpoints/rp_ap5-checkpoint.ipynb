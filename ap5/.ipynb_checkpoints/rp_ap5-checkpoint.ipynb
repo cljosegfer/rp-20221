{
 "cells": [
  {
   "cell_type": "markdown",
   "id": "292e302e",
   "metadata": {},
   "source": [
    "Rede CNN implementada com backpropagation\n",
    "\n",
    "José Geraldo Fernandes"
   ]
  },
  {
   "cell_type": "code",
   "execution_count": 1,
   "id": "da3e27f1",
   "metadata": {},
   "outputs": [],
   "source": [
    "import numpy as np"
   ]
  },
  {
   "cell_type": "markdown",
   "id": "be2fbca7",
   "metadata": {},
   "source": [
    "Dados"
   ]
  },
  {
   "cell_type": "code",
   "execution_count": 2,
   "id": "18d15dd6",
   "metadata": {},
   "outputs": [],
   "source": [
    "from keras.datasets import mnist\n",
    "(x_train, y_train), (x_test, y_test) = mnist.load_data()\n",
    "X = x_train[0]\n",
    "\n",
    "m, n = X.shape"
   ]
  },
  {
   "cell_type": "markdown",
   "id": "e4e0c9a4",
   "metadata": {},
   "source": [
    "# Configuração"
   ]
  },
  {
   "cell_type": "markdown",
   "id": "f503be65",
   "metadata": {},
   "source": [
    "Parâmetros da Rede"
   ]
  },
  {
   "cell_type": "code",
   "execution_count": 3,
   "id": "dd2c059f",
   "metadata": {},
   "outputs": [],
   "source": [
    "p = 6\n",
    "q = 12\n",
    "filter_shape = [5, 5]\n",
    "mlp = [10, 192]"
   ]
  },
  {
   "cell_type": "markdown",
   "id": "14f0c7d0",
   "metadata": {},
   "source": [
    "Inicialização"
   ]
  },
  {
   "cell_type": "code",
   "execution_count": 4,
   "id": "63cd88c8",
   "metadata": {},
   "outputs": [],
   "source": [
    "k1 = np.random.uniform(low = 1, high = 6, size = filter_shape + [p])\n",
    "b1 = np.zeros(shape = (1, p))\n",
    "\n",
    "k2 = np.random.uniform(low = 6, high = 12, size = filter_shape + [p, q])\n",
    "b2 = np.zeros(shape = (1, q))\n",
    "\n",
    "W = np.random.uniform(low = -1, high = 1, size = mlp)\n",
    "b = np.zeros(shape = (mlp[0], 1))"
   ]
  },
  {
   "cell_type": "markdown",
   "id": "ad71beaf",
   "metadata": {},
   "source": [
    "Funções de ativação, convolução e pooling"
   ]
  },
  {
   "cell_type": "code",
   "execution_count": 5,
   "id": "e7917aac",
   "metadata": {},
   "outputs": [],
   "source": [
    "def sigma(x):\n",
    "    return 1 / (1 + np.exp(-x))\n",
    "\n",
    "def conv(img, kernel, bias):\n",
    "    x, y = img.shape\n",
    "    m, n = kernel.shape\n",
    "    x = x - m + 1\n",
    "    y = y - m + 1\n",
    "    \n",
    "    out = np.zeros(shape = (x, y))\n",
    "    for i in range(x):\n",
    "        for j in range(y):\n",
    "            h = np.sum(img[i:i+m, j:j+m]*kernel)\n",
    "            out[i, j] = sigma(h + bias)\n",
    "    \n",
    "    return out\n",
    "\n",
    "def pooling(C):\n",
    "    W, L, samples = C.shape\n",
    "    w, l = [int(W/2), int(L/2)]\n",
    "    S = np.zeros(shape = (w, l, samples))\n",
    "    for k in range(samples):\n",
    "        for i in range(w):\n",
    "            for j in range(l):\n",
    "                S[i, j, k] += C[2*i, 2*j, k]\n",
    "                S[i, j, k] += C[2*i, 2*j - 1, k]\n",
    "                S[i, j, k] += C[2*i - 1, 2*j, k]\n",
    "                S[i, j, k] += C[2*i - 1, 2*j - 1, k]\n",
    "                S[i, j, k] /= 4\n",
    "    return S"
   ]
  },
  {
   "cell_type": "markdown",
   "id": "9243818c",
   "metadata": {},
   "source": [
    "# Forward"
   ]
  },
  {
   "cell_type": "markdown",
   "id": "49db3016",
   "metadata": {},
   "source": [
    "## Primeira Camada"
   ]
  },
  {
   "cell_type": "code",
   "execution_count": 6,
   "id": "8c27d0b5",
   "metadata": {},
   "outputs": [],
   "source": [
    "C1 = np.zeros(shape = (m - filter_shape[0] + 1, n - filter_shape[0] + 1, p))\n",
    "for i in range(b1.size):\n",
    "    C1[:, :, i] = conv(X, k1[:, :, i], b1[:, i])\n",
    "\n",
    "S1 = pooling(C1)"
   ]
  },
  {
   "cell_type": "markdown",
   "id": "ab447e09",
   "metadata": {},
   "source": [
    "## Segunda Camada"
   ]
  },
  {
   "cell_type": "code",
   "execution_count": 7,
   "id": "595a300b",
   "metadata": {},
   "outputs": [],
   "source": [
    "C2 = np.zeros(shape = (S1.shape[0] - filter_shape[0] + 1, S1.shape[1] - filter_shape[0] + 1, q))\n",
    "for i in range(p):\n",
    "    for j in range(q):\n",
    "        C2[:, :, j] = conv(S1[:, :, i], k2[:, :, i, j], b2[:, j]) + C2[:, :, j]\n",
    "\n",
    "S2 = pooling(C2)"
   ]
  },
  {
   "cell_type": "markdown",
   "id": "930cde9e",
   "metadata": {},
   "source": [
    "## Camada Final"
   ]
  },
  {
   "cell_type": "code",
   "execution_count": 8,
   "id": "2ea8634d",
   "metadata": {},
   "outputs": [],
   "source": [
    "f = S2.reshape(-1, 1)\n",
    "\n",
    "H = np.dot(W, f) + b\n",
    "yhat = sigma(H)"
   ]
  },
  {
   "cell_type": "markdown",
   "id": "b2c03bd3",
   "metadata": {},
   "source": [
    "## Custo"
   ]
  },
  {
   "cell_type": "code",
   "execution_count": 9,
   "id": "abc83397",
   "metadata": {},
   "outputs": [],
   "source": [
    "y = np.zeros(shape = (10, 1))\n",
    "y[y_train[0] - 1] = 1\n",
    "\n",
    "L = np.sum((y - yhat)**2) / 2"
   ]
  },
  {
   "cell_type": "markdown",
   "id": "45b32a0f",
   "metadata": {},
   "source": [
    "# Backpropagation"
   ]
  },
  {
   "cell_type": "markdown",
   "id": "1a71138a",
   "metadata": {},
   "source": [
    "## Camada Final"
   ]
  },
  {
   "cell_type": "code",
   "execution_count": 10,
   "id": "49001b19",
   "metadata": {},
   "outputs": [],
   "source": [
    "d_yhat = (yhat - y) * yhat * (1 - y)\n",
    "\n",
    "d_W = np.dot(d_yhat, f.T)\n",
    "d_b = d_yhat\n",
    "d_f = np.dot(W.T, d_yhat)"
   ]
  },
  {
   "cell_type": "markdown",
   "id": "d9236bd4",
   "metadata": {},
   "source": [
    "## Segunda Camada"
   ]
  },
  {
   "cell_type": "code",
   "execution_count": 11,
   "id": "f50290ef",
   "metadata": {},
   "outputs": [],
   "source": [
    "d_S2 = d_f.reshape(S2.shape)\n",
    "d_C2 = np.zeros(shape = C2.shape)\n",
    "for k in range(q):\n",
    "    for i in range(C2.shape[0]):\n",
    "        for j in range(C2.shape[1]):\n",
    "            ii = int(np.ceil(i / 2) - 1)\n",
    "            jj = int(np.ceil(j / 2) - 1)\n",
    "            d_C2[i, j, k] = d_S2[ii, jj, k] / 4\n",
    "\n",
    "d_sigma2 = d_C2 * C2 * (1 - C2)\n",
    "d_k2 = np.zeros(shape = k2.shape)\n",
    "for i in range(p):\n",
    "    for j in range(q):\n",
    "        d_k2[:, :, i, j] += conv(np.rot90(S1, 2)[:, :, i], d_sigma2[:, :, j], 0)\n",
    "\n",
    "d_b2 = np.zeros(b2.shape)\n",
    "for i in range(q):\n",
    "    d_b2[:, i] = np.sum(d_sigma2[:, :, i])"
   ]
  },
  {
   "cell_type": "markdown",
   "id": "4f846e97",
   "metadata": {},
   "source": [
    "## Primeira Camada"
   ]
  },
  {
   "cell_type": "code",
   "execution_count": 12,
   "id": "4960df33",
   "metadata": {},
   "outputs": [],
   "source": [
    "d_S1 = np.zeros(shape = S1.shape)\n",
    "for i in range(p):\n",
    "    for j in range(q):\n",
    "        pad_size = d_S1.shape[0] - d_sigma2.shape[0]\n",
    "        pad = np.pad(d_sigma2[:, :, j], pad_size)\n",
    "        d_S1[:, :, i] += conv(pad, np.rot90(k2, 2)[:, :, i, j], 0)\n",
    "        \n",
    "d_C1 = np.zeros(C1.shape)\n",
    "for k in range(p):\n",
    "    for i in range(C1.shape[0]):\n",
    "        for j in range(C1.shape[1]):\n",
    "            ii = int(np.ceil(i / 2) - 1)\n",
    "            jj = int(np.ceil(j / 2) - 1)\n",
    "            d_C1 = d_S1[ii, jj, k] / 4\n",
    "\n",
    "d_sigma1 = d_C1 * C1 * (1 - C1)\n",
    "d_k1 = np.zeros(k1.shape)\n",
    "for i in range(p):\n",
    "    d_k1[:, :, i] += conv(np.rot90(X, 2), d_sigma1[:, :, i], 0)\n",
    "\n",
    "d_b1 = np.zeros(b1.shape)\n",
    "for i in range(p):\n",
    "    d_b1[:, i] = np.sum(d_sigma1[:, :, i])"
   ]
  },
  {
   "cell_type": "markdown",
   "id": "817350a2",
   "metadata": {},
   "source": [
    "# Atualização de Pesos"
   ]
  },
  {
   "cell_type": "code",
   "execution_count": 13,
   "id": "55e908fb",
   "metadata": {},
   "outputs": [],
   "source": [
    "alpha = 0.1\n",
    "k1 -= alpha * d_k1\n",
    "b1 -= alpha * d_b1\n",
    "\n",
    "k2 -= alpha * d_k2\n",
    "b2 -= alpha * d_b2\n",
    "\n",
    "W -= alpha * d_W\n",
    "b -= alpha * d_b"
   ]
  }
 ],
 "metadata": {
  "kernelspec": {
   "display_name": "Python 3 (ipykernel)",
   "language": "python",
   "name": "python3"
  },
  "language_info": {
   "codemirror_mode": {
    "name": "ipython",
    "version": 3
   },
   "file_extension": ".py",
   "mimetype": "text/x-python",
   "name": "python",
   "nbconvert_exporter": "python",
   "pygments_lexer": "ipython3",
   "version": "3.9.5"
  }
 },
 "nbformat": 4,
 "nbformat_minor": 5
}
