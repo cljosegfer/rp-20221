{
 "cells": [
  {
   "cell_type": "markdown",
   "metadata": {
    "id": "MR-8ikQTyKIP"
   },
   "source": [
    "#Derivadas do *Backpropagation* em Redes Neurais Convolucionais (CNN)\n",
    "\n",
    "Texto original: [Clique aqui!](https://www.semanticscholar.org/paper/Derivation-of-Backpropagation-in-Convolutional-(-)-Zhang/5d7911c93ddcb34cac088d99bd0cae9124e5dcd1)\n",
    "\n",
    "\n",
    "Traduzido e adaptado por [Carlos Anderson](mailto:calicinio@gmail.com)\n",
    "\n",
    "![Esquema da CNN e seus parâmetros](https://ai2-s2-public.s3.amazonaws.com/figures/2017-08-08/5d7911c93ddcb34cac088d99bd0cae9124e5dcd1/1-Figure1-1.png)\n",
    "\n",
    "##Feedforward - propagação dos pixels da imagem\n",
    "\n",
    "### Inicialização dos parâmetros\n",
    "\n",
    "\n",
    "---\n",
    "\n",
    "\n",
    "Os parâmetros são:\n",
    "\n",
    "Camada C1 (layer C1): $ {k}^{1}_{1,p}$ (dimensão 5 x 5 ) e ${b}^{1}_{p}$ (dimensão 1 × 1),  sendo $p = 1, 2, ... 6 $ ;\n",
    "\n",
    "Camada C2 (layer C2): $ {k}^{2}_{p,q}$ (dimensão 5 x 5 ) e ${b}^{2}_{q}$ (dimensão 1 × 1),  sendo $q = 1, 2, ... 12 $ ;\n",
    "\n",
    "Camada FC (layer FC): $W$  (dimensão 10 x 192 ) e $b$  (dimensão 10 x 1 ).\n",
    "\n",
    "Todos os valores de *bias* ($ {b}^{1}_{p} , {b}^{2}_{q}$ e $b$ )  são inicializados com o valor 0; \n",
    "\n",
    "Os outros parametros (${k}^{1}_{1,p},  {k}^{2}_{p,q}$ e $W$) são inicializados a partir de uma distribuição uniforme baseada na dimemsão de ${k}^{1}_{1,p} $ e ${k}^{2}_{p,q}$ e o número de entradas e saída de cada camada. Assim, temos:\n",
    "\n",
    "$ {k}^{1}_{1,p} \\sim U{\\pm \\sqrt{ 6 \\over (1+6) \\times 5^{2} }} $\n",
    "\n",
    "${k}^{2}_{p,q} \\sim U{\\pm \\sqrt{ 6 \\over (6+12) \\times 5^{2} }} $\n",
    "\n",
    "$W \\sim U{\\pm \\sqrt{ 6 \\over 192+10 }} $\n",
    "\n",
    "O número total de parâmetros é:\n",
    "\n",
    "\\begin{array}{rc|c}\n",
    "Parâmetros & Total & Camada \\\\\n",
    "(5 × 5 + 1) × 6 & 156 & C1 \\\\ \n",
    "(5 × 5 × 6 + 1) × 12 & 1812  & C2 \\\\\n",
    "10 × 192 + 10 & 1930 & FC \\\\ \n",
    "\\hline\n",
    "Total& 3898 & \\\\\n",
    "\\end{array}"
   ]
  },
  {
   "cell_type": "code",
   "execution_count": 3,
   "metadata": {
    "colab": {
     "base_uri": "https://localhost:8080/",
     "height": 294
    },
    "executionInfo": {
     "elapsed": 1283,
     "status": "ok",
     "timestamp": 1655127056806,
     "user": {
      "displayName": "Frederico Coelho",
      "userId": "03706209513603755782"
     },
     "user_tz": 180
    },
    "id": "HZDULb9eEqbi",
    "outputId": "291be93d-76a2-4add-88a3-674580d661ed"
   },
   "outputs": [
    {
     "name": "stdout",
     "output_type": "stream",
     "text": [
      "Total de parâmetros de C1: 156\n",
      "Total de parâmetros em C2: 1812\n",
      "Total de parâmetros em FC: 1930\n",
      "\n",
      " -> Kernels da primeira camada (C1) <-\n"
     ]
    },
    {
     "data": {
      "image/png": "[encoded data removed]",
      "text/plain": [
       "<Figure size 1440x720 with 6 Axes>"
      ]
     },
     "metadata": {
      "needs_background": "light"
     },
     "output_type": "display_data"
    }
   ],
   "source": [
    "#importando as bibliotecas necessárias\n",
    "import numpy as np\n",
    "import matplotlib.pyplot as plt\n",
    "from scipy import signal\n",
    "\n",
    "\n",
    "#variaveis de controle de dimensão\n",
    "p = 6;\n",
    "q = 12;\n",
    "\n",
    "\n",
    "#inicializando os parâmetros\n",
    "k1 = np.random.uniform(1,6,(5, 5, p))\n",
    "b1 = np.zeros((1, p))\n",
    "print(\"Total de parâmetros de C1: \" + str(k1.size + b1.size))\n",
    "\n",
    "k2 = np.random.uniform(6,12,(5, 5, p, q))\n",
    "b2 = np.zeros((1, q))\n",
    "print(\"Total de parâmetros em C2: \" + str(k2.size + b2.size))\n",
    "\n",
    "W = np.random.uniform(-1,1,(10, 192))\n",
    "b = np.zeros((10, 1))\n",
    "print(\"Total de parâmetros em FC: \" + str(W.size + b.size))\n",
    "\n",
    "\n",
    "#plotando os kernels da primeira camada (C1)\n",
    "plt.figure(figsize=(20,10))\n",
    "print('\\n -> Kernels da primeira camada (C1) <-')\n",
    "for i in range(0, p):\n",
    "  plt.subplot(1,p,i+1)\n",
    "  plt.imshow(k1[:,:,i], cmap='gray')"
   ]
  },
  {
   "cell_type": "markdown",
   "metadata": {
    "id": "mPSD-gCmSUl4"
   },
   "source": [
    "### Convolução da camada C1\n",
    "\n",
    "\n",
    "---\n",
    "\n",
    "\n",
    "$$ {C}^{1}_{p}  = \\sigma \\left ( I * {k}^{1}_{1,p} + {b}^{1}_{p} \\right ) \\\\ \\sigma (x) = \\frac{1}{1 + {exp}^{-x}} $$\n",
    "\n",
    "$$ {C}^{1}_{p}(i,j) = \\sigma \\left ( \\sum^{2}_{u=-2} \\sum^{2}_{v=-2} I ( i - u, j - v) \\cdot {k}^{1}_{1,p} (u,v) + {b}^{1}_{p} \\right ) $$\n",
    "\n",
    "onde:\n",
    "* $p = 1, 2, 4 ... 6$, porque são $6$ mapas de características (*kernels*) na camada C1;\n",
    "* \\* denota convolução;\n",
    "* $i$ e $j$ são os índices das linhas e colunas do mapa de característica.\n",
    "\n",
    "Devido as bordas de cada $kernel$ até seu centro, com a convolução da imagem $I$, que tem tamanho 28x28 pixels, a imagem da camada ${C}^{1}_{p}$ tem 24x24 pixels, haja vista que cada daquele tem dimensão de 5x5 pixels.\n"
   ]
  },
  {
   "cell_type": "code",
   "execution_count": 4,
   "metadata": {
    "colab": {
     "base_uri": "https://localhost:8080/",
     "height": 350
    },
    "executionInfo": {
     "elapsed": 4165,
     "status": "ok",
     "timestamp": 1655127067837,
     "user": {
      "displayName": "Frederico Coelho",
      "userId": "03706209513603755782"
     },
     "user_tz": 180
    },
    "id": "xrluP8mNdoqN",
    "outputId": "5a3b7384-8883-4e04-9b5b-886276711f3f"
   },
   "outputs": [
    {
     "name": "stdout",
     "output_type": "stream",
     "text": [
      "Downloading data from https://storage.googleapis.com/tensorflow/tf-keras-datasets/mnist.npz\n",
      "11493376/11490434 [==============================] - 0s 0us/step\n",
      "11501568/11490434 [==============================] - 0s 0us/step\n"
     ]
    },
    {
     "data": {
      "text/plain": [
       "[]"
      ]
     },
     "execution_count": 4,
     "metadata": {},
     "output_type": "execute_result"
    },
    {
     "data": {
      "image/png": "[encoded data removed]",
      "text/plain": [
       "<Figure size 432x288 with 1 Axes>"
      ]
     },
     "metadata": {
      "needs_background": "light"
     },
     "output_type": "display_data"
    }
   ],
   "source": [
    "#método da função exponecial sigma\n",
    "def sigma(x):\n",
    "  return 1 / (1 + np.exp(-x));\n",
    "#################################################\n",
    "\n",
    "#metódo que convolução de matrizes 2D COM sigma e bias\n",
    "def convolution2d(image, kernel, bias):\n",
    "  \n",
    "  m, n = kernel.shape\n",
    "  \n",
    "  #apenas para kernels quadrados\n",
    "  if (m == n):\n",
    "    y, x = image.shape\n",
    "    y = y - m + 1\n",
    "    x = x - m + 1\n",
    "    \n",
    "    new_image = np.zeros((y,x))\n",
    "    \n",
    "    for i in range(y):\n",
    "      for j in range(x):\n",
    "        new_image[i][j] = sigma(np.sum(image[i:i+m, j:j+m]*kernel) + bias)\n",
    "\n",
    "    return new_image\n",
    "  else:\n",
    "    return false\n",
    "##################################################\n",
    "\n",
    "#metódo de convolução da camada C1\n",
    "def convolution_C1( I, k1, b1 ):\n",
    "  \n",
    "  c1 = np.zeros((24, 24, 6))\n",
    "  for p in range(0, b1.size):\n",
    "    c1[:,:,p] = convolution2d( I, k1[:,:,p], b1[:,p] )\n",
    "  \n",
    "  return c1;\n",
    "\n",
    "##################################################\n",
    "\n",
    "#I = np.random.uniform(1,0,(28, 28))\n",
    "\n",
    "from keras.datasets import mnist\n",
    "(x_train, y_train), (x_test, y_test) = mnist.load_data()\n",
    "I = x_train[0]\n",
    "\n",
    "plt.title('Imagem Inicial')\n",
    "plt.imshow(I, cmap='gray')\n",
    "plt.plot()\n",
    "\n"
   ]
  },
  {
   "cell_type": "code",
   "execution_count": 6,
   "metadata": {
    "colab": {
     "base_uri": "https://localhost:8080/",
     "height": 240
    },
    "executionInfo": {
     "elapsed": 1414,
     "status": "ok",
     "timestamp": 1655127391959,
     "user": {
      "displayName": "Frederico Coelho",
      "userId": "03706209513603755782"
     },
     "user_tz": 180
    },
    "id": "DqSB13l_X3sj",
    "outputId": "5999b42a-b17e-4f3c-b923-bb3f3b32a9d9"
   },
   "outputs": [
    {
     "data": {
      "text/plain": [
       "[]"
      ]
     },
     "execution_count": 6,
     "metadata": {},
     "output_type": "execute_result"
    },
    {
     "data": {
      "image/png": "[encoded data removed]",
      "text/plain": [
       "<Figure size 1440x720 with 6 Axes>"
      ]
     },
     "metadata": {
      "needs_background": "light"
     },
     "output_type": "display_data"
    }
   ],
   "source": [
    "C1 = convolution_C1(I, k1, b1)\n",
    "\n",
    "plt.figure(figsize=(20,10))\n",
    "for i in range(0, C1[0,0,:].size ):\n",
    "  plt.subplot(1, C1[0,0,:].size, i+1)\n",
    "  plt.imshow(C1[:,:,i], cmap='gray')\n",
    "  plt.title('Imagem C 1,'+str(i+1))\n",
    "  \n",
    "plt.plot()"
   ]
  },
  {
   "cell_type": "markdown",
   "metadata": {
    "id": "4tq_-maDdpRv"
   },
   "source": [
    "### Pooling da camada S1\n",
    "\n",
    "\n",
    "---\n",
    "\n",
    "\n",
    "\n",
    "$$  S^{1}_{p}(i, j) = \\frac{1}{4} \\sum^{1}_{u=0} \\sum^{1}_{v=0} {C}^{1}_{p}  \\left ( 2i - u, 2j - v \\right ), i, j = 1, 2, 3, 4, ... , 12  $$\n",
    "\n",
    "O pooling aqui consiste em somar os valores dos pixels de blocos com dimensões de 2x2 pixel e tirar a média deste valor. Logo, as imagens da camda C1, que possum dimensão 24x24, após o polling, passam a ter dimensão de 12x12 pixels."
   ]
  },
  {
   "cell_type": "code",
   "execution_count": 7,
   "metadata": {
    "colab": {
     "base_uri": "https://localhost:8080/",
     "height": 240
    },
    "executionInfo": {
     "elapsed": 1096,
     "status": "ok",
     "timestamp": 1655127396025,
     "user": {
      "displayName": "Frederico Coelho",
      "userId": "03706209513603755782"
     },
     "user_tz": 180
    },
    "id": "qoo1Huimt9ux",
    "outputId": "54135903-ba00-46d1-9c8e-cd4ef0393528"
   },
   "outputs": [
    {
     "data": {
      "text/plain": [
       "[]"
      ]
     },
     "execution_count": 7,
     "metadata": {},
     "output_type": "execute_result"
    },
    {
     "data": {
      "image/png": "[encoded data removed]",
      "text/plain": [
       "<Figure size 1440x720 with 6 Axes>"
      ]
     },
     "metadata": {
      "needs_background": "light"
     },
     "output_type": "display_data"
    }
   ],
   "source": [
    "# realiza Pooling das imagens da camada C1 - versão SEM loop para u e v\n",
    "def pooling_C1_v2(C1):\n",
    "  \n",
    "  s1 = np.zeros((12,12, 6))\n",
    "  \n",
    "  for p in range(0, 6):\n",
    "    for i in range(0, 12):\n",
    "      for j in range(0, 12):\n",
    "        s1[i, j, p] = C1[ 2*i - 0, 2*j - 0, p ] + s1[i, j, p];\n",
    "        s1[i, j, p] = C1[ 2*i - 0, 2*j - 1, p ] + s1[i, j, p];\n",
    "        s1[i, j, p] = C1[ 2*i - 1, 2*j - 0, p ] + s1[i, j, p];\n",
    "        s1[i, j, p] = C1[ 2*i - 1, 2*j - 1, p ] + s1[i, j, p];\n",
    "        s1[i, j, p] = s1[i, j, p] * (1/4);  \n",
    "  \n",
    "  return s1\n",
    "\n",
    "#######################################################################\n",
    "\n",
    "# realiza Pooling das imagens da camada C1 - versão COM loop para u e v\n",
    "def pooling_C1(C1):\n",
    "  \n",
    "  s1 = np.zeros((12,12, 6))\n",
    "  \n",
    "  for p in range(0, 6):\n",
    "    for i in range(0, 12):\n",
    "      for j in range(0, 12):\n",
    "        for u in range(0, 2):\n",
    "          for v in range(0, 2):\n",
    "            s1[i, j, p] = C1[ 2*i - u, 2*j - v, p ] + s1[i, j, p];        \n",
    "  \n",
    "  s1 = s1 * 1/4\n",
    "  \n",
    "  return s1\n",
    "\n",
    "########################################################################\n",
    "\n",
    "S1 = pooling_C1(C1)\n",
    "\n",
    "plt.figure(figsize=(20,10))\n",
    "for i in range(0, S1[0,0,:].size ):\n",
    "  plt.subplot(1, S1[0,0,:].size, i+1)\n",
    "  \n",
    "  plt.imshow(S1[:,:,i], cmap='gray')\n",
    "  \n",
    "  plt.title('Imagem S 1,'+str(i+1))\n",
    "  \n",
    "plt.plot()"
   ]
  },
  {
   "cell_type": "markdown",
   "metadata": {
    "id": "u3XLGJWk3T_k"
   },
   "source": [
    "### Convolução da camada C2\n",
    "\n",
    "\n",
    "---\n",
    "\n",
    "\n",
    "\n",
    "$$ {C}^{2}_{q}  = \\sigma \\left ( \\sum^{6}_{p=1} S^{1}_{p} * {k}^{2}_{p,q} + {b}^{2}_{q} \\right ) $$\n",
    "\n",
    "$$ {C}^{2}_{q}(i,j) = \\sigma \\left ( \\sum^{6}_{p=1} \\sum^{2}_{u=-2} \\sum^{2}_{v=-2}  S^{1}_{p} ( i - u, j - v) \\cdot {k}^{2}_{p,q} (u,v) + {b}^{2}_{q} \\right ) $$\n",
    "\n",
    "onde:\n",
    "* $q = 1, 2, 4 ... 12$, porque são $12$ mapas de características (*kernels*) na camada C2;\n",
    "\n",
    "Devido as bordas de cada $kernel$ até seu centro, com a convolução das imagens $ S^{1}_{p}$, que tem tamanho 12x12 pixels, a imagem da camada ${C}^{2}_{q}$ terá 8x8 pixels, haja vista que cada daquele tem dimensão de 5x5 pixels."
   ]
  },
  {
   "cell_type": "code",
   "execution_count": 12,
   "metadata": {
    "colab": {
     "base_uri": "https://localhost:8080/",
     "height": 365
    },
    "executionInfo": {
     "elapsed": 2583,
     "status": "ok",
     "timestamp": 1655127532771,
     "user": {
      "displayName": "Frederico Coelho",
      "userId": "03706209513603755782"
     },
     "user_tz": 180
    },
    "id": "OZLP8e8l40QR",
    "outputId": "632536d4-b6dc-414c-b240-1db0f29eea09"
   },
   "outputs": [
    {
     "data": {
      "text/plain": [
       "[]"
      ]
     },
     "execution_count": 12,
     "metadata": {},
     "output_type": "execute_result"
    },
    {
     "data": {
      "image/png": "[encoded data removed]",
      "text/plain": [
       "<Figure size 1440x720 with 6 Axes>"
      ]
     },
     "metadata": {
      "needs_background": "light"
     },
     "output_type": "display_data"
    },
    {
     "data": {
      "image/png": "[encoded data removed]",
      "text/plain": [
       "<Figure size 1440x720 with 12 Axes>"
      ]
     },
     "metadata": {
      "needs_background": "light"
     },
     "output_type": "display_data"
    }
   ],
   "source": [
    "#metódo de convolução da camada C2\n",
    "def convolution_C2( S1, k2, b2 ):\n",
    "  \n",
    "  c2 = np.zeros((8, 8, 12))\n",
    "  for p in range(0, 6):\n",
    "    for q in range(0, 12):\n",
    "      c2[:,:,q] = convolution2d( S1[:,:,p], k2[:,:,p,q], b2[:,q] ) + c2[:,:,q];\n",
    "  \n",
    "  return c2;\n",
    "\n",
    "##################################################\n",
    "\n",
    "plt.figure(figsize=(20,10))\n",
    "for i in range(0, S1[0,0,:].size ):\n",
    "  plt.subplot(1, S1[0,0,:].size, i+1)\n",
    "  plt.imshow(S1[:,:,i], cmap='gray')\n",
    "  plt.title('Imagem S 1,'+str(i+1))\n",
    "  \n",
    "plt.plot();\n",
    "  \n",
    "\n",
    "C2 = convolution_C2(S1, k2, b2)\n",
    "\n",
    "plt.figure(figsize=(20,10))\n",
    "for i in range(0, C2[0,0,:].size ):\n",
    "  plt.subplot(1, C2[0,0,:].size, i+1)\n",
    "  plt.imshow(C2[:,:,i], cmap='gray')\n",
    "  plt.title('Imagem C 2,'+str(i+1))\n",
    "  \n",
    "plt.plot()\n",
    "\n",
    "\n"
   ]
  },
  {
   "cell_type": "markdown",
   "metadata": {
    "id": "JiOiKvIJ8OEL"
   },
   "source": [
    "### Pooling da camada C2\n",
    "\n",
    "---\n",
    "\n",
    "\n",
    "$$  S^{2}_{q}(i, j) = \\frac{1}{4} \\sum^{1}_{u=0} \\sum^{1}_{v=0} {C}^{2}_{q}  \\left ( 2i - u, 2j - v \\right ), i, j = 1, 2, 3, 4.  $$\n",
    "\n",
    "O pooling aqui consiste em somar os valores dos pixels de blocos com dimensões de 2x2 pixel e tirar a média deste valor. Logo, as imagens da camda C2, que possum dimensão 8x8, após o polling, passam a ter dimensão de 4x4 pixels."
   ]
  },
  {
   "cell_type": "code",
   "execution_count": 14,
   "metadata": {
    "colab": {
     "base_uri": "https://localhost:8080/",
     "height": 159
    },
    "executionInfo": {
     "elapsed": 1389,
     "status": "ok",
     "timestamp": 1655127777663,
     "user": {
      "displayName": "Frederico Coelho",
      "userId": "03706209513603755782"
     },
     "user_tz": 180
    },
    "id": "l8ziKytj8ji-",
    "outputId": "16ab3b06-5d4b-4c4a-8f3a-e7b46b694339"
   },
   "outputs": [
    {
     "data": {
      "text/plain": [
       "[]"
      ]
     },
     "execution_count": 14,
     "metadata": {},
     "output_type": "execute_result"
    },
    {
     "data": {
      "image/png": "[encoded data removed]",
      "text/plain": [
       "<Figure size 1440x720 with 12 Axes>"
      ]
     },
     "metadata": {
      "needs_background": "light"
     },
     "output_type": "display_data"
    }
   ],
   "source": [
    "# realiza Pooling das imagens da camada C2\n",
    "def pooling_C2(C2):\n",
    "  \n",
    "  s2 = np.zeros((4,4, 12))\n",
    "  \n",
    "  for q in range(0, 12):\n",
    "    for i in range(0, 4):\n",
    "      for j in range(0, 4):\n",
    "        for u in range(0, 2):\n",
    "          for v in range(0, 2):\n",
    "            s2[i, j, q] = C2[ 2*i - u, 2*j - v, q ] + s2[i, j, q];        \n",
    "  \n",
    "  s2 = s2 * 1/4\n",
    "  \n",
    "  return s2\n",
    "\n",
    "########################################################################\n",
    "\n",
    "S2 = pooling_C2(C2)\n",
    "\n",
    "plt.figure(figsize=(20,10))\n",
    "for i in range(0, S2[0,0,:].size ):\n",
    "  plt.subplot(1, S2[0,0,:].size, i+1)\n",
    "  \n",
    "  plt.imshow(S2[:,:,i], cmap='gray')\n",
    "  \n",
    "  plt.title('Imagem S 2,'+str(i+1))\n",
    "  \n",
    "plt.plot()"
   ]
  },
  {
   "cell_type": "markdown",
   "metadata": {
    "id": "AIzdxgIZL4fS"
   },
   "source": [
    "### Vetorização e Concatenação\n",
    "\n",
    "---\n",
    "\n",
    "\n",
    "\n",
    "Cada $S^{2}_{q}$ é uma matriz 4x4, onde $ q = 1, 2, 3, ... 12. $ Cada matriz é transformada em um vetor de 16 posições. No passo seguinte, os 12 vetores são concatencados, formando um vector maior de 192 posições (4 X 4 X 12 = 192). Este processo pode ser denotado por:\n",
    "\n",
    "$$ f = F \\left ( \\{  S^{2}_{q} \\}_{q = 1,2,3,4,  ...  , 12} \\right )  $$\n",
    "\n",
    "e o processo reverso por:\n",
    "\n",
    "$$  \\{  S^{2}_{q} \\}_{q = 1,2,3,4,  ...  , 12} = F^{-1} (f)  $$"
   ]
  },
  {
   "cell_type": "code",
   "execution_count": 15,
   "metadata": {
    "colab": {
     "base_uri": "https://localhost:8080/"
    },
    "executionInfo": {
     "elapsed": 334,
     "status": "ok",
     "timestamp": 1655127781022,
     "user": {
      "displayName": "Frederico Coelho",
      "userId": "03706209513603755782"
     },
     "user_tz": 180
    },
    "id": "HjqhrpTWORgW",
    "outputId": "01a84d95-cc69-4fbd-8fa9-a28f5d795c49"
   },
   "outputs": [
    {
     "data": {
      "text/plain": [
       "array([[6.],\n",
       "       [6.],\n",
       "       [6.],\n",
       "       [6.],\n",
       "       [6.],\n",
       "       [6.],\n",
       "       [6.],\n",
       "       [6.],\n",
       "       [6.],\n",
       "       [6.],\n",
       "       [6.],\n",
       "       [6.],\n",
       "       [6.],\n",
       "       [6.],\n",
       "       [6.],\n",
       "       [6.],\n",
       "       [6.],\n",
       "       [6.],\n",
       "       [6.],\n",
       "       [6.],\n",
       "       [6.],\n",
       "       [6.],\n",
       "       [6.],\n",
       "       [6.],\n",
       "       [6.],\n",
       "       [6.],\n",
       "       [6.],\n",
       "       [6.],\n",
       "       [6.],\n",
       "       [6.],\n",
       "       [6.],\n",
       "       [6.],\n",
       "       [6.],\n",
       "       [6.],\n",
       "       [6.],\n",
       "       [6.],\n",
       "       [6.],\n",
       "       [6.],\n",
       "       [6.],\n",
       "       [6.],\n",
       "       [6.],\n",
       "       [6.],\n",
       "       [6.],\n",
       "       [6.],\n",
       "       [6.],\n",
       "       [6.],\n",
       "       [6.],\n",
       "       [6.],\n",
       "       [6.],\n",
       "       [6.],\n",
       "       [6.],\n",
       "       [6.],\n",
       "       [6.],\n",
       "       [6.],\n",
       "       [6.],\n",
       "       [6.],\n",
       "       [6.],\n",
       "       [6.],\n",
       "       [6.],\n",
       "       [6.],\n",
       "       [6.],\n",
       "       [6.],\n",
       "       [6.],\n",
       "       [6.],\n",
       "       [6.],\n",
       "       [6.],\n",
       "       [6.],\n",
       "       [6.],\n",
       "       [6.],\n",
       "       [6.],\n",
       "       [6.],\n",
       "       [6.],\n",
       "       [6.],\n",
       "       [6.],\n",
       "       [6.],\n",
       "       [6.],\n",
       "       [6.],\n",
       "       [6.],\n",
       "       [6.],\n",
       "       [6.],\n",
       "       [6.],\n",
       "       [6.],\n",
       "       [6.],\n",
       "       [6.],\n",
       "       [6.],\n",
       "       [6.],\n",
       "       [6.],\n",
       "       [6.],\n",
       "       [6.],\n",
       "       [6.],\n",
       "       [6.],\n",
       "       [6.],\n",
       "       [6.],\n",
       "       [6.],\n",
       "       [6.],\n",
       "       [6.],\n",
       "       [6.],\n",
       "       [6.],\n",
       "       [6.],\n",
       "       [6.],\n",
       "       [6.],\n",
       "       [6.],\n",
       "       [6.],\n",
       "       [6.],\n",
       "       [6.],\n",
       "       [6.],\n",
       "       [6.],\n",
       "       [6.],\n",
       "       [6.],\n",
       "       [6.],\n",
       "       [6.],\n",
       "       [6.],\n",
       "       [6.],\n",
       "       [6.],\n",
       "       [6.],\n",
       "       [6.],\n",
       "       [6.],\n",
       "       [6.],\n",
       "       [6.],\n",
       "       [6.],\n",
       "       [6.],\n",
       "       [6.],\n",
       "       [6.],\n",
       "       [6.],\n",
       "       [6.],\n",
       "       [6.],\n",
       "       [6.],\n",
       "       [6.],\n",
       "       [6.],\n",
       "       [6.],\n",
       "       [6.],\n",
       "       [6.],\n",
       "       [6.],\n",
       "       [6.],\n",
       "       [6.],\n",
       "       [6.],\n",
       "       [6.],\n",
       "       [6.],\n",
       "       [6.],\n",
       "       [6.],\n",
       "       [6.],\n",
       "       [6.],\n",
       "       [6.],\n",
       "       [6.],\n",
       "       [6.],\n",
       "       [6.],\n",
       "       [6.],\n",
       "       [6.],\n",
       "       [6.],\n",
       "       [6.],\n",
       "       [6.],\n",
       "       [6.],\n",
       "       [6.],\n",
       "       [6.],\n",
       "       [6.],\n",
       "       [6.],\n",
       "       [6.],\n",
       "       [6.],\n",
       "       [6.],\n",
       "       [6.],\n",
       "       [6.],\n",
       "       [6.],\n",
       "       [6.],\n",
       "       [6.],\n",
       "       [6.],\n",
       "       [6.],\n",
       "       [6.],\n",
       "       [6.],\n",
       "       [6.],\n",
       "       [6.],\n",
       "       [6.],\n",
       "       [6.],\n",
       "       [6.],\n",
       "       [6.],\n",
       "       [6.],\n",
       "       [6.],\n",
       "       [6.],\n",
       "       [6.],\n",
       "       [6.],\n",
       "       [6.],\n",
       "       [6.],\n",
       "       [6.],\n",
       "       [6.],\n",
       "       [6.],\n",
       "       [6.],\n",
       "       [6.],\n",
       "       [6.],\n",
       "       [6.],\n",
       "       [6.],\n",
       "       [6.],\n",
       "       [6.],\n",
       "       [6.]])"
      ]
     },
     "execution_count": 15,
     "metadata": {},
     "output_type": "execute_result"
    }
   ],
   "source": [
    "#muda as matrizes para vetores\n",
    "F = S2.reshape(16,1,12)\n",
    "\n",
    "#concatena todos os vetores\n",
    "f = np.concatenate(F[:,:,:], axis=1).T\n",
    "\n",
    "f"
   ]
  },
  {
   "cell_type": "markdown",
   "metadata": {
    "id": "9C96qk-RTcsS"
   },
   "source": [
    "### Camada FC (Fully Conected) - Saída da rede\n",
    "\n",
    "\n",
    "---\n",
    "\n",
    "\n",
    "\n",
    "$$ \\hat{y} = \\sigma( W \\times f + b  )  $$\n",
    "\n",
    "\n",
    "A saída da rede se dá pelo sigma resultante da multiplicação do pesos $W$ por $f$, somados aos valores de bias."
   ]
  },
  {
   "cell_type": "code",
   "execution_count": 16,
   "metadata": {
    "colab": {
     "base_uri": "https://localhost:8080/"
    },
    "executionInfo": {
     "elapsed": 7,
     "status": "ok",
     "timestamp": 1655127783928,
     "user": {
      "displayName": "Frederico Coelho",
      "userId": "03706209513603755782"
     },
     "user_tz": 180
    },
    "id": "RLzW8exHNezf",
    "outputId": "8d1acdc7-f787-46e9-a195-08b0d4a57279"
   },
   "outputs": [
    {
     "data": {
      "text/plain": [
       "array([[1.00000000e+00],\n",
       "       [1.40502655e-07],\n",
       "       [6.37881675e-34],\n",
       "       [2.36125551e-23],\n",
       "       [3.86901451e-04],\n",
       "       [1.00000000e+00],\n",
       "       [7.90994666e-41],\n",
       "       [1.00000000e+00],\n",
       "       [1.00000000e+00],\n",
       "       [9.99999996e-01]])"
      ]
     },
     "execution_count": 16,
     "metadata": {},
     "output_type": "execute_result"
    }
   ],
   "source": [
    "#calulo da saída da rede\n",
    "y_hat = sigma(np.dot(W, f) + b)\n",
    "\n",
    "y_hat"
   ]
  },
  {
   "cell_type": "markdown",
   "metadata": {
    "id": "-5PRzARbWsMN"
   },
   "source": [
    "### Função de perda\n",
    "\n",
    "\n",
    "---\n",
    "\n",
    "\n",
    "Assumindo que o valor esperado é o $y$, a função de perda é dada por:\n",
    "\n",
    "$$ L = \\frac{1}{2} \\sum_{i=1}^{10} ( \\hat{y}(i) - y(i) )^{2} $$\n",
    "\n",
    "\n"
   ]
  },
  {
   "cell_type": "code",
   "execution_count": 17,
   "metadata": {
    "colab": {
     "base_uri": "https://localhost:8080/"
    },
    "executionInfo": {
     "elapsed": 287,
     "status": "ok",
     "timestamp": 1655127787335,
     "user": {
      "displayName": "Frederico Coelho",
      "userId": "03706209513603755782"
     },
     "user_tz": 180
    },
    "id": "DZPCuUW-XyBG",
    "outputId": "73f3930c-7549-4f7a-f5bc-e67b5b908d92"
   },
   "outputs": [
    {
     "data": {
      "text/plain": [
       "1.6645299905184614"
      ]
     },
     "execution_count": 17,
     "metadata": {},
     "output_type": "execute_result"
    }
   ],
   "source": [
    "y = np.random.uniform(1,0,(10,1))\n",
    "\n",
    "#calcula o valor de perda\n",
    "diff =  (y_hat - y) * (y_hat - y)\n",
    "L = 1/2 * np.sum(diff)\n",
    "\n",
    "L"
   ]
  },
  {
   "cell_type": "markdown",
   "metadata": {
    "id": "B7GGmdoxXxKl"
   },
   "source": [
    "## Backpropagation\n",
    "\n",
    "\n",
    "---\n",
    "\n",
    "\n",
    "\n",
    "---\n",
    "\n",
    "\n",
    "\n",
    "No backpropagation os parametros são atualizados do final para o início, isto é $W$ e $b$,  $k^{2}_{p,q}$ e $b^{2}_{q}$,  $k^{1}_{1, p}$ e $b^{1}_{ p}$.\n",
    "\n",
    "### O vetor de pesos W\n",
    " \n",
    "\n",
    "---\n",
    "\n",
    "\n",
    "\n",
    "O vetor de pesos $W$ tem dimensão de $10 x 192$. Os seus valores são atualizados de acordo a derivada dos pesos em relação a função de perda ($L$). Assim temos:\n",
    "\n",
    "$$ \\Delta W(i, j) =  \\frac{\\delta L}{ \\delta W(i, j) } $$\n",
    "\n",
    "Como o valor de $L$ passa pela função de saída $\\hat{y}$, temos:\n",
    "\n",
    "$$ \\Delta W(i, j) =  \\frac{\\delta L}{ \\delta \\hat{y}(i) }\\cdot \\frac{ \\hat{y}(i) }{ \\delta W(i, j) } $$\n",
    "\n",
    "Substituindo as funções e derivando...\n",
    "\n",
    "$$ \\Delta W(i, j) = (\\hat{y}(i) - y(i)) \\cdot \\frac{ \\delta \\sigma \\left ( \\sum_{j=1}^{192} W(i,j) \\times f(j) + b(i) \\right )  }{ \\delta W(i, j) } $$\n",
    "\n",
    "$$ \\Delta W(i, j) = (\\hat{y}(i) - y(i)) \\cdot \\hat{y}(i) ( 1 - y(i) ) \\cdot f(j) $$\n",
    "\n",
    "Como $\\Delta \\hat{y}(i) = (\\hat{y}(i) - y(i)) \\cdot \\hat{y}(i) ( 1 - y(i) )  $ tem dimensão de 10 x 1, então:\n",
    "\n",
    "$$ \\Delta W(i, j) =\\Delta \\hat{y}(i) \\cdot f(j)  $$\n",
    "\n",
    "$$ \\Longrightarrow \\Delta W(i, j) =\\Delta \\hat{y}(i) \\cdot f^T  \\Longleftarrow $$ \n",
    "\n"
   ]
  },
  {
   "cell_type": "code",
   "execution_count": 18,
   "metadata": {
    "executionInfo": {
     "elapsed": 314,
     "status": "ok",
     "timestamp": 1655127791035,
     "user": {
      "displayName": "Frederico Coelho",
      "userId": "03706209513603755782"
     },
     "user_tz": 180
    },
    "id": "4wPXnJFHa80L"
   },
   "outputs": [],
   "source": [
    "#calcula a variação do y de saida\n",
    "delta_y_hat = (y_hat - y) * y_hat*(1-y)\n",
    "\n",
    "\n",
    "#calcula a variação de W conforme a sua derivada\n",
    "delta_W = np.dot(delta_y_hat, f.T)"
   ]
  },
  {
   "cell_type": "markdown",
   "metadata": {
    "id": "_diPxg6iBglO"
   },
   "source": [
    "### O vetor de pesos b\n",
    "\n",
    "---\n",
    "\n",
    "\n",
    "\n",
    "O vetor de pesos $b$ tem dimensão de $10 x 1$. Os seus valores TAMBÉM são atualizados de acordo a derivada dos pesos em relação a função de perda ($L$). Assim temos:\n",
    "\n",
    "$$ \\Delta b(i) =  \\frac{\\delta L}{ \\delta b(i) } $$\n",
    "\n",
    "Como o valor de $L$ passa pela função de saída $\\hat{y}$, temos:\n",
    "\n",
    "$$ \\Delta b(i) =  \\frac{\\delta L}{ \\delta \\hat{y}(i) }\\cdot \\frac{ \\hat{y}(i) }{ \\delta b(i) } $$\n",
    "\n",
    "Substituindo as funções e derivando...\n",
    "\n",
    "$$ \\Delta b(i) = (\\hat{y}(i) - y(i)) \\cdot \\frac{ \\delta \\sigma \\left ( \\sum_{j=1}^{192} W(i,j) \\times f(j) + b(i) \\right )  }{ \\delta b(i) } $$\n",
    "\n",
    "$$ \\Delta b(i) = (\\hat{y}(i) - y(i)) \\cdot \\hat{y}(i) ( 1 - y(i) ) $$\n",
    "\n",
    "\n",
    "$$ \\Longrightarrow \\Delta b =\\Delta \\hat{y} \\Longleftarrow $$ "
   ]
  },
  {
   "cell_type": "code",
   "execution_count": 19,
   "metadata": {
    "executionInfo": {
     "elapsed": 291,
     "status": "ok",
     "timestamp": 1655127794208,
     "user": {
      "displayName": "Frederico Coelho",
      "userId": "03706209513603755782"
     },
     "user_tz": 180
    },
    "id": "WoSNV4K-Cp5V"
   },
   "outputs": [],
   "source": [
    "#calculando a variação do bias (b)\n",
    "delta_b = delta_y_hat;"
   ]
  },
  {
   "cell_type": "markdown",
   "metadata": {
    "id": "BxzpHQ8TqXsA"
   },
   "source": [
    "### Os pesos de $\\Delta k^{2}_{p,q}$\n",
    "\n",
    "---\n",
    "\n",
    "\n",
    "\n",
    "\n",
    "A matriz de pesos $\\Delta k^{2}_{p,q}$ tem dimensão de 5x5. Devido as fases de concatenação, vetorização e *pooling*, é necesário calcular a variação de $\\Delta C^{2}_{q} $ sobre  a camada C2 antes de calcular $\\Delta k^{2}_{p,q}$.\n",
    "\n",
    "Estes valores influenciaram nos valores de $f(j)$. Assim sendo, temos:\n",
    "\n",
    "$$ \\Delta f(j) =  \\frac{\\delta L}{ \\delta f } $$\n",
    "\n",
    "$$ \\Delta f(j) =  \\sum^{10}_{i=1} \\frac{\\delta L}{ \\delta \\hat{y}(i) }\\cdot \\frac{ \\hat{y}(i) }{ \\delta f(j) } $$\n",
    "\n",
    "Substituindo as funções e derivando...\n",
    "\n",
    "$$ \\Delta f(j) = \\sum^{10}_{i=1} (\\hat{y}(i) - y(i)) \\cdot \\frac{ \\delta \\sigma \\left ( \\sum_{j=1}^{192} W(i,j) \\times f(j) + b(i) \\right )  }{ \\delta f(j) } $$\n",
    "\n",
    "$$ \\Delta f(j) = \\sum^{10}_{i=1} (\\hat{y}(i) - y(i)) \\cdot \\hat{y}(i) ( 1 - y(i) ) \\cdot W(i,j) $$\n",
    "\n",
    "$$ \\Longrightarrow \\Delta f = W^{T} \\times \\Delta \\hat{y} \\Longleftarrow $$ \n",
    "\n",
    "Na vetorização e concatenção - transição da camada S2 para a camada FC -  nós redimensionamos os 12 mapas de dimensão 4x4 em um grande vetor $f$ com dimensão de 192x1 ( 4 x 4 x 12 = 192 ). O seu processo reverso é dado por:\n",
    "\n",
    "$$  \\{ \\Delta  S^{2}_{q} \\}_{q = 1,2,3,4,  ...  , 12} = F^{-1} (\\Delta f)  $$ \n",
    "\n",
    "que recebe o erro da camada S2. Como não há parâmetros na camada S2, não precisamos fazer nenhum derivação. Portanto, é necessário apenas o *upsampling* ( *upsampling* = processo inverso ao *pooling*) para obter o erro na camada C2. Este processo é denotado por:\n",
    "\n",
    "$$  \\Delta C^{2}_{q}(i,j) = \\frac{1}{4} \\Delta S^{2}_{q} ( \\lceil i/2\t\\rceil ,   \t\\lceil j/2 \\rceil  ), $$ \n",
    "\n",
    "onde $ i e  j = 1, 2, ... , 8 $ e  \t$\\lceil  \\cdot\t\\rceil$ denota a função de teto de $\\cdot$.\n",
    "Lembre-se que as dimensões de $\\Delta  S^{2}_{q}$ e $ \\Delta C^{2}_{q}$ são 4x4 e 8x8, respectivamente.\n",
    "\n",
    "Após observado o exposto acima, podemos calcular os valores de $\\Delta k^{2}_{p,q}$.\n",
    "\n",
    "$$ \\Delta k^{2}_{p,q}(u ,v) =  \\frac{\\delta L}{ \\Delta k^{2}_{p,q}(u ,v) } $$\n",
    "\n",
    "$$  \\Delta k^{2}_{p,q}(u ,v) =   \\sum^{8}_{i=1} \\sum^{8}_{j=1} \\frac{\\delta L}{ \\delta C^{2}_{q}(i,j) }\\cdot \\frac{ \\delta C^{2}_{q}(i,j) }{ \\delta k^{2}_{p,q}(u ,v) } $$\n",
    "\n",
    "Substituindo as funções e derivando...\n",
    "\n",
    "$$ \\Delta  k^{2}_{p,q}(u ,v) =  \\sum^{8}_{i=1} \\sum^{8}_{j=1} \\Delta C^{2}_{q}(i,j) \\cdot \\frac{ \\delta \\sigma \\left ( \\sum^{6}_{p=1} \\sum^{2}_{u=-2} \\sum_{v=-2}^{2} S^{1}_{p}(i - u, j - v) \\times  k^{2}_{p,q}(u ,v)  + b^{2}_{q} \\right )  }{  \\delta k^{2}_{p,q}(u ,v) } $$\n",
    "\n",
    "$$ \\Delta  k^{2}_{p,q}(u ,v)  = \\sum^{8}_{i=1} \\sum^{8}_{j=1} \\underbrace{ \\Delta C^{2}_{q}(i,j) \\cdot  C^{2}_{q}(i,j) ( 1 - C^{2}_{q}(i,j) ) } \\cdot S^{1}_{p}(i - u, j - v)  \\\\ \\Delta C^{2}_{q, \\sigma}(i,j) $$\n",
    "\n",
    "Assim temos que: \n",
    "\n",
    "$$ \\Delta  k^{2}_{p,q}(u ,v) =  \\Delta  C^{2}_{q, \\sigma}  * S^{1}_{p} $$ \n",
    "\n",
    "Todavia, é necessário um ajuste para que a convolução aconteça da direita para esquerda e debaixo para cima, ou seja, no sentido contrário da no momento da propagação do sinal (*feedforward*). \n",
    "Para que isso aconteça, basta realizar um giro na imagem em 180° graus. Conforme mostra a figura abaixo. Nesta codinção, você pode convoluir na mesma direção utilizado na fase de propagação.\n",
    "\n",
    "![Esquema da rotação da imagem durante o brackpropagtion](https://lh5.googleusercontent.com/Xh0yI6H47Ca7cFJ1yrNPrBm1Q4_B2gwifkrfNwU6-Sv2wM3ezZZrlno0uRxXJhYBBPXu91cD5eYpaW5VARNV=w1325-h616)\n",
    "\n",
    "Rotacionando $S^{1}_{p}$ em 180 graus, obtemos  $S^{1}_{p, rot180}$, portanto $S^{1}_{p, rot180} (u -i, v - j) = S^{1}_{p} (i - u, j - v)$. Assim sendo,  $\\Delta  k^{2}_{p,q}(u ,v)$ pode ser escrito por:\n",
    "\n",
    "$$ \\Delta  k^{2}_{p,q}(u ,v) =  \\sum^{8}_{i=1} \\sum^{8}_{j=1}  S^{1}_{p, rot180} (u -i, v - j) \\cdot \\Delta C^{2}_{q,\\sigma}(i,j) $$ \n",
    " \n",
    "$$ \\Longrightarrow \\Delta  k^{2}_{p,q}(u ,v) = S^{1}_{p, rot180} * \\Delta  C^{2}_{q, \\sigma} \\Longleftarrow $$ \n"
   ]
  },
  {
   "cell_type": "code",
   "execution_count": 21,
   "metadata": {
    "colab": {
     "base_uri": "https://localhost:8080/",
     "height": 429
    },
    "executionInfo": {
     "elapsed": 2053,
     "status": "ok",
     "timestamp": 1655127838785,
     "user": {
      "displayName": "Frederico Coelho",
      "userId": "03706209513603755782"
     },
     "user_tz": 180
    },
    "id": "Gat0_7baIhpx",
    "outputId": "1dc7d8cc-e3f4-49c9-d18c-aa70e87e26ba"
   },
   "outputs": [
    {
     "data": {
      "image/png": "[encoded data removed]",
      "text/plain": [
       "<Figure size 1440x720 with 6 Axes>"
      ]
     },
     "metadata": {
      "needs_background": "light"
     },
     "output_type": "display_data"
    },
    {
     "data": {
      "image/png": "[encoded data removed]",
      "text/plain": [
       "<Figure size 1440x720 with 6 Axes>"
      ]
     },
     "metadata": {
      "needs_background": "light"
     },
     "output_type": "display_data"
    }
   ],
   "source": [
    "#calcular os valores de delta f\n",
    "delta_f = np.dot(W.T, delta_y_hat)\n",
    "\n",
    "#calcular os valores de delta s2\n",
    "delta_s2 = delta_f.reshape(4, 4, 12)\n",
    "\n",
    "#calcula os valores de delta C2\n",
    "delta_c2 = np.zeros((8, 8, 12))\n",
    "\n",
    "for q in range(0, 12): #numero de kernels\n",
    "  for i in range(1, 8):\n",
    "    for j in range(1, 8):\n",
    "      idx_i = int(np.ceil(i/2)) - 1;\n",
    "      idx_j = int(np.ceil(j/2)) - 1;\n",
    "      delta_c2[i, j, q] = 1/4 * delta_s2[ idx_i, idx_j, q ]\n",
    "\n",
    "delta_c2_sigma = delta_c2 * C2 * (1 - C2)\n",
    "      \n",
    "#rotaciona a imagem S1 em 180º (2 x rotações de 90)\n",
    "S1_180 = np.rot90(S1, 2)\n",
    "\n",
    "\n",
    "#mostra imagem antes de rotacionar\n",
    "plt.figure(figsize=(20,10))\n",
    "for i in range(0, S1[0,0,:].size ):\n",
    "  plt.subplot(1, S1[0,0,:].size, i+1)\n",
    "  plt.imshow(S1[:,:,i], cmap='gray')\n",
    "  plt.title('Imagem S 1,'+str(i+1))\n",
    "  \n",
    "plt.plot();\n",
    "\n",
    "#mostra imagem depois de rotacionar\n",
    "plt.figure(figsize=(20,10))\n",
    "for i in range(0, S1_180[0,0,:].size ):\n",
    "  plt.subplot(1, S1_180[0,0,:].size, i+1)\n",
    "  plt.imshow(S1_180[:,:,i], cmap='gray')\n",
    "  plt.title('Imagem S180 1,'+str(i+1))\n",
    "  \n",
    "plt.plot();\n",
    "\n",
    "\n",
    "#calcula os valores de delta K2\n",
    "delta_k2 = np.zeros((5, 5, 6, 12))\n",
    "for p in range(0, 6):\n",
    "  for q in range(0, 12):\n",
    "    delta_k2[:,:,p,q] = convolution2d( S1_180[:,:,p], delta_c2_sigma[:,:,q], 0 ) + delta_k2[:,:,p,q];\n",
    "      "
   ]
  },
  {
   "cell_type": "markdown",
   "metadata": {
    "id": "g9zNWZ2WW-Sm"
   },
   "source": [
    "### O peso $\\Delta b^{2}_{q}$\n",
    "\n",
    "---\n",
    "\n",
    "O vetor tem dimensão de 1x1 para cada uma dos 12 *kernels*  $k^{2}$ ($q = 1, 2, 3, ... , 12$)\n",
    "\n",
    "$$ \\Delta b^{2}_{q} =  \\frac{\\delta L}{ \\Delta b^{2}_{q} } $$\n",
    "\n",
    "$$  \\Delta b^{2}_{q} =   \\sum^{8}_{i=1} \\sum^{8}_{j=1} \\frac{\\delta L}{ \\delta C^{2}_{q}(i,j) }\\cdot \\frac{ \\delta C^{2}_{q}(i,j) }{ \\delta b^{2}_{q} } $$\n",
    "\n",
    "Substituindo as funções e derivando...\n",
    "\n",
    "$$ \\Delta  b^{2}_{q} =  \\sum^{8}_{i=1} \\sum^{8}_{j=1} \\Delta C^{2}_{q}(i,j) \\cdot \\frac{ \\delta \\sigma \\left ( \\sum^{6}_{p=1} \\sum^{2}_{u=-2} \\sum_{v=-2}^{2} S^{1}_{p}(i - u, j - v) \\times  k^{2}_{p,q}(u ,v)  + b^{2}_{q} \\right )  }{  \\delta b^{2}_{q} } $$\n",
    "\n",
    "$$ \\Delta  b^{2}_{q}  = \\sum^{8}_{i=1} \\sum^{8}_{j=1} \\underbrace{ \\Delta C^{2}_{q}(i,j) \\cdot  C^{2}_{q}(i,j) ( 1 - C^{2}_{q}(i,j) ) }  \\\\ \\Delta C^{2}_{q, \\sigma}(i,j) $$\n",
    "\n",
    "Assim temos que: \n",
    "\n",
    "$$ \\Longrightarrow \\Delta  b^{2}_{q} =  \\sum^{8}_{i=1} \\sum^{8}_{j=1}  \\Delta  C^{2}_{q, \\sigma} (i, j) \\Longleftarrow $$ "
   ]
  },
  {
   "cell_type": "code",
   "execution_count": 22,
   "metadata": {
    "executionInfo": {
     "elapsed": 288,
     "status": "ok",
     "timestamp": 1655127846675,
     "user": {
      "displayName": "Frederico Coelho",
      "userId": "03706209513603755782"
     },
     "user_tz": 180
    },
    "id": "K02lea5q8rS4"
   },
   "outputs": [],
   "source": [
    "#calcula os valores de delta b2\n",
    "delta_b2 = np.zeros(12)\n",
    "\n",
    "for q in range(0, 12): #numero de kernels k2\n",
    "  delta_b2[q] = np.sum(delta_c2_sigma[:, :, q])"
   ]
  },
  {
   "cell_type": "markdown",
   "metadata": {
    "id": "KzpnxWulhh6y"
   },
   "source": [
    "### Os pesos de $\\Delta k^{1}_{1, p}$\n",
    "\n",
    "\n",
    "---\n",
    "\n",
    "Similiar a derivação do $\\Delta k^{2}_{p,q}$, precisamos primeiramente obter o $\\Delta S^{1}_{p}$, o erro da camada S1. Então, o *upsampling* será realizado para obter o $\\Delta C^{1}_{p} $, o erro da camada C1. Por fim, seguindo o mesmo caminho, podemos calcular o valor de $\\Delta k^{1}_{1, p}$.\n",
    "\n",
    "$$ \\Delta S^{1}_{p}(i, j) = \\frac{\\delta L }{ \\Delta S^{1}_{p}(i, j) } $$\n",
    "\n",
    "$$ \\Delta S^{1}_{p}(i, j) = \\sum^{12}_{q=1} \\sum^{2}_{u=-2} \\sum^{2}_{v=-2} \\frac{\\delta L }{ \\delta C^{2}_{q,\\sigma}(i + u, j + v) } \\cdot \\frac{ \\delta C^{2}_{q,\\sigma}(i + u, j + v) }{\\delta S^{1}_{p}(i, j)} $$\n",
    "\n",
    "$$ \\Delta S^{1}_{p}(i, j) = \\sum^{12}_{q=1} \\sum^{2}_{u=-2} \\sum^{2}_{v=-2} \\Delta C^{2}_{q,\\sigma}(i + u, j + v) \\cdot  \\frac{ \\delta \\left ( \\sum^{6}_{p=1} \\sum^{2}_{u=-2} \\sum_{v=-2}^{2} S^{1}_{p}(i + u, j + v) \\times  k^{2}_{p,q}(u ,v)  + b^{2}_{q} \\right )  }{  \\delta S^{1}_{p, q}(i, j) } $$\n",
    "\n",
    "$$ \\Delta S^{1}_{p}(i, j) = \\sum^{12}_{q=1} \\sum^{2}_{u=-2} \\sum^{2}_{v=-2} \\Delta C^{2}_{q,\\sigma}(i + u, j + v) \\cdot   k^{2}_{p,q}(u ,v) $$\n",
    "\n",
    "Rotacinando $ k^{2}_{p,q} $ em 180 graus, obtemos $ k^{2}_{p,q,rot180}(-u, -v) = k^{2}_{p,q}(u ,v) $. Desde modo:\n",
    "\n",
    "$$ \\Delta S^{1}_{p}(i, j) = \\sum^{12}_{q=1} \\sum^{2}_{u=-2} \\sum^{2}_{v=-2} \\Delta C^{2}_{q,\\sigma}(i - (- u), j - (-v)) \\cdot   k^{2}_{p,q}(-u, -v) $$\n",
    "\n",
    "Então:\n",
    "\n",
    "$$ \\Longrightarrow \\Delta S^{1}_{p}(i, j) = \\sum^{12}_{q=1} \\Delta C^{2}_{q,\\sigma} *   k^{2}_{p,q,rot180} \\Longleftarrow $$\n",
    "\n",
    "Pelo *upsampling*, obtemos o erro sobre a camada C1,\n",
    "\n",
    "$$ \\Delta C^{1}_{p}(i,j) = \\frac{1}{4} \\Delta S^{1}_{p} ( \\lceil i/2\t\\rceil ,   \t\\lceil j/2 \\rceil  ), \\\\ i, j = 1, 2, 3, ... , 24. $$\n",
    "\n",
    "Agora, estamos prontos para calcular o $ \\Delta k^{1}_{1,p} $,\n",
    "\n",
    "$$ \\Delta k^{1}_{1,p}(u, v) = \\frac{\\delta L}{ \\delta k^{1}_{1,p}(u, v) } $$\n",
    "\n",
    "$$ \\Delta k^{1}_{1,p}(u, v) = \\sum^{24}_{i=1} \\sum^{24}_{j=1} \\frac{\\delta L}{ \\delta C^{1}_{p}(i,j) }\\cdot \\frac{ \\delta C^{1}_{p}(i,j) }{ \\delta k^{1}_{1,p} (u,v) } $$\n",
    "\n",
    "$$ \\Delta k^{1}_{1,p}(u, v) = \\sum^{24}_{i=1} \\sum^{24}_{j=1} \\Delta C^{1}_{p}(i, j) \\cdot  \\frac{ \\delta \\sigma \\left ( \\sum^{2}_{u=-2} \\sum_{v=-2}^{2} I(i - u,  j - v) \\cdot  k^{1}_{1,p}(u ,v)  + b^{1}_{p} \\right )  }{  \\delta k^{1}_{1,p}(u, vj) }$$\n",
    "\n",
    "\n",
    "$$ \\Delta k^{1}_{1,p}(u, v) = \\sum^{24}_{i=1} \\sum^{24}_{j=1} \\underbrace{ \\Delta C^{1}_{p}(i,j) \\cdot  C^{1}_{p}(i,j) ( 1 - C^{1}_{p}(i,j) ) }  \\cdot  I(i - u, j - v) \\\\ \\Delta C^{1}_{p, \\sigma}(i,j) $$\n",
    "\n",
    "Pela mesma razão discutida anteriormente, rotacinamos a Imagens em 180 graus:\n",
    "\n",
    "$$ \\Delta k^{1}_{1,p}(u, v) = \\sum^{24}_{i=1} \\sum^{24}_{j=1} I_{rot180}(u - i, v - j)  \\cdot \\Delta C^{1}_{p, \\sigma}(i,j) $$\n",
    "\n",
    "Finalmente,\n",
    "\n",
    "$$ \\Longrightarrow \\Delta k^{1}_{1,p} = I_{rot180} * \\Delta C^{1}_{p, \\sigma} \\Longleftarrow $$\n",
    "\n",
    "\n"
   ]
  },
  {
   "cell_type": "code",
   "execution_count": 24,
   "metadata": {
    "executionInfo": {
     "elapsed": 274,
     "status": "ok",
     "timestamp": 1655127876579,
     "user": {
      "displayName": "Frederico Coelho",
      "userId": "03706209513603755782"
     },
     "user_tz": 180
    },
    "id": "4JeKQVZF4x94"
   },
   "outputs": [],
   "source": [
    "#rotaciona a imagem k2 em 180º (2 x rotações de 90)\n",
    "k2_180 = np.rot90(k2, 2)\n",
    "\n",
    "#convolução de delta_c2 com k2_180\n",
    "delta_S1 = np.zeros((12, 12, 6))\n",
    "\n",
    "for p in range(0, 6):\n",
    "  for q in range(0, 12):\n",
    "    # aqui é necessário realizar um padding (adição de bordas) na matriz delta_c2_sigma\n",
    "    # essa parte não é deixda clara no artigo\n",
    "    # lembrando que a dimensão resultante da convolução é X - m + 1, onde X é a dimensão da img\n",
    "    # e o m é o tamanho do kernel. Assim, delta_c2_sigma = 16x16\n",
    "    delta_c2_sigma_padding = np.pad(delta_c2_sigma[:,:,q], 4, mode='constant')\n",
    "    delta_S1[:,:,p] = convolution2d( delta_c2_sigma_padding, k2_180[:,:,p,q], 0 ) + delta_S1[:,:,p];\n",
    "    \n",
    "#calcula o valor delta_c1\n",
    "delta_c1 = np.zeros((24,24, 6))\n",
    "for p in range(0, 6): #numero de kernels\n",
    "  for i in range(1, 24):\n",
    "    for j in range(1, 24):\n",
    "      idx_i = int(np.ceil(i/2)) - 1;\n",
    "      idx_j = int(np.ceil(j/2)) - 1;\n",
    "      delta_c1[i, j, p] = 1/4 * delta_S1[ idx_i, idx_j, p ]\n",
    "\n",
    "#calcula delta_c1_sigma\n",
    "delta_c1_sigma = delta_c1 * C1 * (1 - C1)\n",
    "\n",
    "\n",
    "#rotaciona a imagem de entrada\n",
    "I_180 = np.rot90(I, 2)\n",
    "\n",
    "#calcula o delta_k1\n",
    "delta_k1 = np.zeros((5,5,6))\n",
    "for p in range(0, 6):\n",
    "  delta_k1[:,:,p] = convolution2d(I_180, delta_c1_sigma[:,:,p], 0 ) + delta_k1[:,:,p]\n",
    "\n",
    "\n"
   ]
  },
  {
   "cell_type": "markdown",
   "metadata": {
    "id": "GGfHS30sLYzs"
   },
   "source": [
    "### O peso $\\Delta b^{1}_{p}$\n",
    "\n",
    "---\n",
    "\n",
    "O vetor tem dimensão de 1x1 para cada uma dos 6 *kernels*  $k^{1}$ ($p = 1, 2, 3, ... , 6$)\n",
    "\n",
    "$$ \\Delta b^{1}_{p} =  \\frac{\\delta L}{ \\Delta b^{1}_{p} } $$\n",
    "\n",
    "$$  \\Delta b^{1}_{p} =   \\sum^{24}_{i=1} \\sum^{24}_{j=1} \\frac{\\delta L}{ \\delta C^{1}_{p}(i,j) }\\cdot \\frac{ \\delta C^{1}_{p}(i,j) }{ \\delta b^{1}_{p} } $$\n",
    "\n",
    "Substituindo as funções e derivando...\n",
    "\n",
    "$$ \\Delta  b^{1}_{p} =  \\sum^{24}_{i=1} \\sum^{24}_{j=1} \\Delta C^{1}_{p}(i,j) \\cdot \\frac{ \\delta \\sigma \\left ( \\sum^{2}_{u=-2} \\sum_{v=-2}^{2} I(i - u, j - v) \\times  k^{1}_{1,p}(u ,v)  + b^{1}_{p} \\right )  }{  \\delta b^{1}_{p} } $$\n",
    "\n",
    "$$ \\Delta  b^{1}_{p}  = \\sum^{24}_{i=1} \\sum^{24}_{j=1} \\underbrace{ \\Delta C^{1}_{p}(i,j) \\cdot  C^{1}_{p}(i,j) ( 1 - C^{1}_{p}(i,j) ) }  \\\\ \\Delta C^{1}_{p, \\sigma}(i,j) $$\n",
    "\n",
    "Assim temos que: \n",
    "\n",
    "$$ \\Longrightarrow \\Delta  b^{1}_{p} =  \\sum^{24}_{i=1} \\sum^{24}_{j=1}  \\Delta  C^{1}_{p, \\sigma} (i, j) \\Longleftarrow $$ "
   ]
  },
  {
   "cell_type": "code",
   "execution_count": 25,
   "metadata": {
    "executionInfo": {
     "elapsed": 271,
     "status": "ok",
     "timestamp": 1655127882337,
     "user": {
      "displayName": "Frederico Coelho",
      "userId": "03706209513603755782"
     },
     "user_tz": 180
    },
    "id": "n1Yw605wM-ec"
   },
   "outputs": [],
   "source": [
    "#calcula o delta_b1\n",
    "delta_b1 = np.zeros(6)\n",
    "\n",
    "for p in range(0, 6):\n",
    "  delta_b1[p] = np.sum(delta_c1_sigma[:,:,p])"
   ]
  },
  {
   "cell_type": "markdown",
   "metadata": {
    "id": "ISUCJF1zNuv6"
   },
   "source": [
    "### Atualização dos parametros\n",
    "\n",
    "Para essa etapa é necessário uma variável para definir o tamanho do passo do apresendizado. Está é a variável $\\alpha $. Este valor deve ser maior que zero e menor ou igual a um. $(0 < \\alpha \\le 1)$.\n",
    "\n",
    "\n",
    "$$ k^{1}_{1, p} =  k^{1}_{1, p} - \\alpha \\cdot \\Delta k^{1}_{1, p} \\\\ $$\n",
    "\n",
    "$$ b^{1}_{p} =  b^{1}_{p} - \\alpha \\cdot \\Delta b^{1}_{p} \\\\ $$\n",
    "\n",
    "$$ k^{2}_{p, q} =  k^{2}_{p, q} - \\alpha \\cdot \\Delta k^{2}_{p, q} \\\\ $$\n",
    "\n",
    "$$ b^{2}_{q} =  b^{2}_{q}  - \\alpha \\cdot \\Delta b^{2}_{q} \\\\ $$\n",
    "\n",
    "$$ W =  W - \\alpha \\cdot \\Delta W\\\\ $$\n",
    "\n",
    "$$ b =  b - \\alpha \\cdot \\Delta b\\\\ $$\n"
   ]
  },
  {
   "cell_type": "code",
   "execution_count": 26,
   "metadata": {
    "colab": {
     "base_uri": "https://localhost:8080/",
     "height": 242
    },
    "executionInfo": {
     "elapsed": 1147,
     "status": "ok",
     "timestamp": 1655127887145,
     "user": {
      "displayName": "Frederico Coelho",
      "userId": "03706209513603755782"
     },
     "user_tz": 180
    },
    "id": "btqS1XpNP5Rh",
    "outputId": "0fe84f5b-8b98-4a93-cbb2-841d9c3bdbc9"
   },
   "outputs": [
    {
     "name": "stdout",
     "output_type": "stream",
     "text": [
      "\n",
      " -> Kernels da primeira camada (C1) <-\n"
     ]
    },
    {
     "data": {
      "image/png": "[encoded data removed]",
      "text/plain": [
       "<Figure size 1440x720 with 6 Axes>"
      ]
     },
     "metadata": {
      "needs_background": "light"
     },
     "output_type": "display_data"
    }
   ],
   "source": [
    "#atualiza os parametros\n",
    "alpha = 0.5\n",
    "\n",
    "k1 = k1 - alpha * delta_k1\n",
    "b1 = b1 - alpha * delta_b1\n",
    "k2 = k2 - alpha * delta_k2\n",
    "b2 = b2 - alpha * delta_b2\n",
    "W = W - alpha * W\n",
    "b = b - alpha * b\n",
    "\n",
    "#plotando os kernels da primeira camada (C1)\n",
    "plt.figure(figsize=(20,10))\n",
    "print('\\n -> Kernels da primeira camada (C1) <-')\n",
    "for i in range(0, 6):\n",
    "  plt.subplot(1,6,i+1)\n",
    "  plt.imshow(k1[:,:,i], cmap='gray')"
   ]
  },
  {
   "cell_type": "code",
   "execution_count": null,
   "metadata": {
    "id": "2SQsaiHHs96t"
   },
   "outputs": [],
   "source": []
  }
 ],
 "metadata": {
  "colab": {
   "collapsed_sections": [],
   "name": "CNN_derivacaoEquacoes.ipynb",
   "provenance": []
  },
  "kernelspec": {
   "display_name": "Python 3 (ipykernel)",
   "language": "python",
   "name": "python3"
  },
  "language_info": {
   "codemirror_mode": {
    "name": "ipython",
    "version": 3
   },
   "file_extension": ".py",
   "mimetype": "text/x-python",
   "name": "python",
   "nbconvert_exporter": "python",
   "pygments_lexer": "ipython3",
   "version": "3.9.5"
  }
 },
 "nbformat": 4,
 "nbformat_minor": 1
}
